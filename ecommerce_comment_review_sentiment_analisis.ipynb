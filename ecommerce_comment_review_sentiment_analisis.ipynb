{
 "cells": [
  {
   "cell_type": "code",
   "execution_count": 1,
   "id": "ff78e91e",
   "metadata": {
    "_cell_guid": "b1076dfc-b9ad-4769-8c92-a6c4dae69d19",
    "_uuid": "8f2839f25d086af736a60e9eeb907d3b93b6e0e5",
    "execution": {
     "iopub.execute_input": "2024-06-23T03:57:12.784119Z",
     "iopub.status.busy": "2024-06-23T03:57:12.783731Z",
     "iopub.status.idle": "2024-06-23T03:57:13.609972Z",
     "shell.execute_reply": "2024-06-23T03:57:13.608822Z"
    },
    "papermill": {
     "duration": 0.836199,
     "end_time": "2024-06-23T03:57:13.612514",
     "exception": false,
     "start_time": "2024-06-23T03:57:12.776315",
     "status": "completed"
    },
    "tags": []
   },
   "outputs": [
    {
     "name": "stdout",
     "output_type": "stream",
     "text": [
      "/kaggle/input/womens-e-commerce-clothing-reviews/Women_s_E-Commerce_Clothing_Reviews_1594_1.csv\n"
     ]
    }
   ],
   "source": [
    "# This Python 3 environment comes with many helpful analytics libraries installed\n",
    "# It is defined by the kaggle/python Docker image: https://github.com/kaggle/docker-python\n",
    "# For example, here's several helpful packages to load\n",
    "\n",
    "import numpy as np # linear algebra\n",
    "import pandas as pd # data processing, CSV file I/O (e.g. pd.read_csv)\n",
    "\n",
    "# Input data files are available in the read-only \"../input/\" directory\n",
    "# For example, running this (by clicking run or pressing Shift+Enter) will list all files under the input directory\n",
    "\n",
    "import os\n",
    "for dirname, _, filenames in os.walk('/kaggle/input'):\n",
    "    for filename in filenames:\n",
    "        print(os.path.join(dirname, filename))\n",
    "\n",
    "# You can write up to 20GB to the current directory (/kaggle/working/) that gets preserved as output when you create a version using \"Save & Run All\" \n",
    "# You can also write temporary files to /kaggle/temp/, but they won't be saved outside of the current session"
   ]
  },
  {
   "cell_type": "markdown",
   "id": "1982fb27",
   "metadata": {
    "papermill": {
     "duration": 0.004593,
     "end_time": "2024-06-23T03:57:13.622208",
     "exception": false,
     "start_time": "2024-06-23T03:57:13.617615",
     "status": "completed"
    },
    "tags": []
   },
   "source": [
    "**Read CSV files with semicolon separator**"
   ]
  },
  {
   "cell_type": "code",
   "execution_count": 2,
   "id": "d45034b7",
   "metadata": {
    "execution": {
     "iopub.execute_input": "2024-06-23T03:57:13.634276Z",
     "iopub.status.busy": "2024-06-23T03:57:13.633131Z",
     "iopub.status.idle": "2024-06-23T03:57:15.229643Z",
     "shell.execute_reply": "2024-06-23T03:57:15.228466Z"
    },
    "papermill": {
     "duration": 1.605077,
     "end_time": "2024-06-23T03:57:15.232119",
     "exception": false,
     "start_time": "2024-06-23T03:57:13.627042",
     "status": "completed"
    },
    "tags": []
   },
   "outputs": [],
   "source": [
    "import pandas as pd\n",
    "from sklearn.model_selection import train_test_split\n",
    "from sklearn.feature_extraction.text import TfidfVectorizer\n",
    "from sklearn.linear_model import LogisticRegression\n",
    "from sklearn.metrics import accuracy_score, classification_report\n",
    "\n",
    "# 1. Membaca file CSV dengan pemisah titik koma\n",
    "df = pd.read_csv('/kaggle/input/womens-e-commerce-clothing-reviews/Women_s_E-Commerce_Clothing_Reviews_1594_1.csv', sep=';', on_bad_lines='skip')"
   ]
  },
  {
   "cell_type": "markdown",
   "id": "f31f0481",
   "metadata": {
    "papermill": {
     "duration": 0.004627,
     "end_time": "2024-06-23T03:57:15.242078",
     "exception": false,
     "start_time": "2024-06-23T03:57:15.237451",
     "status": "completed"
    },
    "tags": []
   },
   "source": [
    "**Data preview.**\n",
    "\n",
    "**Clean data (delete rows with missing values ​​in 'Review.Text' and 'Rating' columns).**"
   ]
  },
  {
   "cell_type": "code",
   "execution_count": 3,
   "id": "8894bf38",
   "metadata": {
    "execution": {
     "iopub.execute_input": "2024-06-23T03:57:15.253874Z",
     "iopub.status.busy": "2024-06-23T03:57:15.253108Z",
     "iopub.status.idle": "2024-06-23T03:57:15.287596Z",
     "shell.execute_reply": "2024-06-23T03:57:15.286392Z"
    },
    "papermill": {
     "duration": 0.04324,
     "end_time": "2024-06-23T03:57:15.290220",
     "exception": false,
     "start_time": "2024-06-23T03:57:15.246980",
     "status": "completed"
    },
    "tags": []
   },
   "outputs": [
    {
     "name": "stdout",
     "output_type": "stream",
     "text": [
      "   Unnamed: 0  Clothing.ID  Age                    Title  \\\n",
      "0           1          767   33                      NaN   \n",
      "1           2         1080   34                      NaN   \n",
      "2           3         1077   60  Some major design flaws   \n",
      "3           4         1049   50         My favorite buy!   \n",
      "4           5          847   47         Flattering shirt   \n",
      "\n",
      "                                         Review.Text  Rating  Recommended.IND  \\\n",
      "0  Absolutely wonderful - silky and sexy and comf...       4                1   \n",
      "1  Love this dress!  it's sooo pretty.  i happene...       5                1   \n",
      "2  I had such high hopes for this dress and reall...       3                0   \n",
      "3  I love, love, love this jumpsuit. it's fun, fl...       5                1   \n",
      "4  This shirt is very flattering to all due to th...       5                1   \n",
      "\n",
      "   Positive.Feedback.Count   Division.Name Department.Name Class.Name  \n",
      "0                        0       Initmates        Intimate  Intimates  \n",
      "1                        4         General         Dresses    Dresses  \n",
      "2                        0         General         Dresses    Dresses  \n",
      "3                        0  General Petite         Bottoms      Pants  \n",
      "4                        6         General            Tops    Blouses  \n"
     ]
    }
   ],
   "source": [
    "# 2. Pratinjau data\n",
    "print(df.head())\n",
    "\n",
    "# 3. Bersihkan data (menghapus baris dengan nilai yang hilang di kolom 'Review.Text' dan 'Rating')\n",
    "df.dropna(subset=['Review.Text', 'Rating'], inplace=True)"
   ]
  },
  {
   "cell_type": "markdown",
   "id": "3476f55d",
   "metadata": {
    "papermill": {
     "duration": 0.004952,
     "end_time": "2024-06-23T03:57:15.300337",
     "exception": false,
     "start_time": "2024-06-23T03:57:15.295385",
     "status": "completed"
    },
    "tags": []
   },
   "source": [
    "**Text processing**"
   ]
  },
  {
   "cell_type": "code",
   "execution_count": 4,
   "id": "3ca1d58c",
   "metadata": {
    "execution": {
     "iopub.execute_input": "2024-06-23T03:57:15.312014Z",
     "iopub.status.busy": "2024-06-23T03:57:15.311606Z",
     "iopub.status.idle": "2024-06-23T03:57:15.316973Z",
     "shell.execute_reply": "2024-06-23T03:57:15.315700Z"
    },
    "papermill": {
     "duration": 0.013734,
     "end_time": "2024-06-23T03:57:15.319173",
     "exception": false,
     "start_time": "2024-06-23T03:57:15.305439",
     "status": "completed"
    },
    "tags": []
   },
   "outputs": [],
   "source": [
    "# 4. Pemrosesan teks\n",
    "X = df['Review.Text']\n",
    "y = df['Rating']"
   ]
  },
  {
   "cell_type": "markdown",
   "id": "c80ff824",
   "metadata": {
    "papermill": {
     "duration": 0.00533,
     "end_time": "2024-06-23T03:57:15.329739",
     "exception": false,
     "start_time": "2024-06-23T03:57:15.324409",
     "status": "completed"
    },
    "tags": []
   },
   "source": [
    "**Categorize ratings into 3 classes: negative (1-2), neutral (3), positive (4-5)**"
   ]
  },
  {
   "cell_type": "code",
   "execution_count": 5,
   "id": "75732d5f",
   "metadata": {
    "execution": {
     "iopub.execute_input": "2024-06-23T03:57:15.342276Z",
     "iopub.status.busy": "2024-06-23T03:57:15.341825Z",
     "iopub.status.idle": "2024-06-23T03:57:15.352482Z",
     "shell.execute_reply": "2024-06-23T03:57:15.351379Z"
    },
    "papermill": {
     "duration": 0.01941,
     "end_time": "2024-06-23T03:57:15.354788",
     "exception": false,
     "start_time": "2024-06-23T03:57:15.335378",
     "status": "completed"
    },
    "tags": []
   },
   "outputs": [],
   "source": [
    "# Mengkategorikan rating menjadi 3 kelas: negatif (1-2), netral (3), positif (4-5)\n",
    "y = y.apply(lambda x: 'positive' if x > 3 else ('negative' if x < 3 else 'neutral'))"
   ]
  },
  {
   "cell_type": "markdown",
   "id": "e5602ab5",
   "metadata": {
    "papermill": {
     "duration": 0.004751,
     "end_time": "2024-06-23T03:57:15.364611",
     "exception": false,
     "start_time": "2024-06-23T03:57:15.359860",
     "status": "completed"
    },
    "tags": []
   },
   "source": [
    "**Feature extraction using TF-IDF**"
   ]
  },
  {
   "cell_type": "code",
   "execution_count": 6,
   "id": "b7927012",
   "metadata": {
    "execution": {
     "iopub.execute_input": "2024-06-23T03:57:15.377484Z",
     "iopub.status.busy": "2024-06-23T03:57:15.376414Z",
     "iopub.status.idle": "2024-06-23T03:57:16.464998Z",
     "shell.execute_reply": "2024-06-23T03:57:16.463784Z"
    },
    "papermill": {
     "duration": 1.09778,
     "end_time": "2024-06-23T03:57:16.467850",
     "exception": false,
     "start_time": "2024-06-23T03:57:15.370070",
     "status": "completed"
    },
    "tags": []
   },
   "outputs": [],
   "source": [
    "# 5. Ekstraksi fitur menggunakan TF-IDF\n",
    "vectorizer = TfidfVectorizer(stop_words='english', max_features=5000)\n",
    "X_tfidf = vectorizer.fit_transform(X)"
   ]
  },
  {
   "cell_type": "markdown",
   "id": "06d5b5ab",
   "metadata": {
    "papermill": {
     "duration": 0.004647,
     "end_time": "2024-06-23T03:57:16.477601",
     "exception": false,
     "start_time": "2024-06-23T03:57:16.472954",
     "status": "completed"
    },
    "tags": []
   },
   "source": [
    "**Split data into training and test sets**"
   ]
  },
  {
   "cell_type": "code",
   "execution_count": 7,
   "id": "842bcaee",
   "metadata": {
    "execution": {
     "iopub.execute_input": "2024-06-23T03:57:16.489705Z",
     "iopub.status.busy": "2024-06-23T03:57:16.488847Z",
     "iopub.status.idle": "2024-06-23T03:57:16.501587Z",
     "shell.execute_reply": "2024-06-23T03:57:16.500457Z"
    },
    "papermill": {
     "duration": 0.021382,
     "end_time": "2024-06-23T03:57:16.503978",
     "exception": false,
     "start_time": "2024-06-23T03:57:16.482596",
     "status": "completed"
    },
    "tags": []
   },
   "outputs": [],
   "source": [
    "# 6. Membagi data menjadi set pelatihan dan pengujian\n",
    "X_train, X_test, y_train, y_test = train_test_split(X_tfidf, y, test_size=0.2, random_state=42)"
   ]
  },
  {
   "cell_type": "markdown",
   "id": "f33dc3ac",
   "metadata": {
    "papermill": {
     "duration": 0.005021,
     "end_time": "2024-06-23T03:57:16.514751",
     "exception": false,
     "start_time": "2024-06-23T03:57:16.509730",
     "status": "completed"
    },
    "tags": []
   },
   "source": [
    "**Training model classification**"
   ]
  },
  {
   "cell_type": "code",
   "execution_count": 8,
   "id": "bbc7b453",
   "metadata": {
    "execution": {
     "iopub.execute_input": "2024-06-23T03:57:16.526745Z",
     "iopub.status.busy": "2024-06-23T03:57:16.526355Z",
     "iopub.status.idle": "2024-06-23T03:57:18.701695Z",
     "shell.execute_reply": "2024-06-23T03:57:18.700355Z"
    },
    "papermill": {
     "duration": 2.184825,
     "end_time": "2024-06-23T03:57:18.704684",
     "exception": false,
     "start_time": "2024-06-23T03:57:16.519859",
     "status": "completed"
    },
    "tags": []
   },
   "outputs": [
    {
     "name": "stderr",
     "output_type": "stream",
     "text": [
      "/opt/conda/lib/python3.10/site-packages/sklearn/linear_model/_logistic.py:458: ConvergenceWarning: lbfgs failed to converge (status=1):\n",
      "STOP: TOTAL NO. of ITERATIONS REACHED LIMIT.\n",
      "\n",
      "Increase the number of iterations (max_iter) or scale the data as shown in:\n",
      "    https://scikit-learn.org/stable/modules/preprocessing.html\n",
      "Please also refer to the documentation for alternative solver options:\n",
      "    https://scikit-learn.org/stable/modules/linear_model.html#logistic-regression\n",
      "  n_iter_i = _check_optimize_result(\n"
     ]
    },
    {
     "data": {
      "text/html": [
       "<style>#sk-container-id-1 {color: black;background-color: white;}#sk-container-id-1 pre{padding: 0;}#sk-container-id-1 div.sk-toggleable {background-color: white;}#sk-container-id-1 label.sk-toggleable__label {cursor: pointer;display: block;width: 100%;margin-bottom: 0;padding: 0.3em;box-sizing: border-box;text-align: center;}#sk-container-id-1 label.sk-toggleable__label-arrow:before {content: \"▸\";float: left;margin-right: 0.25em;color: #696969;}#sk-container-id-1 label.sk-toggleable__label-arrow:hover:before {color: black;}#sk-container-id-1 div.sk-estimator:hover label.sk-toggleable__label-arrow:before {color: black;}#sk-container-id-1 div.sk-toggleable__content {max-height: 0;max-width: 0;overflow: hidden;text-align: left;background-color: #f0f8ff;}#sk-container-id-1 div.sk-toggleable__content pre {margin: 0.2em;color: black;border-radius: 0.25em;background-color: #f0f8ff;}#sk-container-id-1 input.sk-toggleable__control:checked~div.sk-toggleable__content {max-height: 200px;max-width: 100%;overflow: auto;}#sk-container-id-1 input.sk-toggleable__control:checked~label.sk-toggleable__label-arrow:before {content: \"▾\";}#sk-container-id-1 div.sk-estimator input.sk-toggleable__control:checked~label.sk-toggleable__label {background-color: #d4ebff;}#sk-container-id-1 div.sk-label input.sk-toggleable__control:checked~label.sk-toggleable__label {background-color: #d4ebff;}#sk-container-id-1 input.sk-hidden--visually {border: 0;clip: rect(1px 1px 1px 1px);clip: rect(1px, 1px, 1px, 1px);height: 1px;margin: -1px;overflow: hidden;padding: 0;position: absolute;width: 1px;}#sk-container-id-1 div.sk-estimator {font-family: monospace;background-color: #f0f8ff;border: 1px dotted black;border-radius: 0.25em;box-sizing: border-box;margin-bottom: 0.5em;}#sk-container-id-1 div.sk-estimator:hover {background-color: #d4ebff;}#sk-container-id-1 div.sk-parallel-item::after {content: \"\";width: 100%;border-bottom: 1px solid gray;flex-grow: 1;}#sk-container-id-1 div.sk-label:hover label.sk-toggleable__label {background-color: #d4ebff;}#sk-container-id-1 div.sk-serial::before {content: \"\";position: absolute;border-left: 1px solid gray;box-sizing: border-box;top: 0;bottom: 0;left: 50%;z-index: 0;}#sk-container-id-1 div.sk-serial {display: flex;flex-direction: column;align-items: center;background-color: white;padding-right: 0.2em;padding-left: 0.2em;position: relative;}#sk-container-id-1 div.sk-item {position: relative;z-index: 1;}#sk-container-id-1 div.sk-parallel {display: flex;align-items: stretch;justify-content: center;background-color: white;position: relative;}#sk-container-id-1 div.sk-item::before, #sk-container-id-1 div.sk-parallel-item::before {content: \"\";position: absolute;border-left: 1px solid gray;box-sizing: border-box;top: 0;bottom: 0;left: 50%;z-index: -1;}#sk-container-id-1 div.sk-parallel-item {display: flex;flex-direction: column;z-index: 1;position: relative;background-color: white;}#sk-container-id-1 div.sk-parallel-item:first-child::after {align-self: flex-end;width: 50%;}#sk-container-id-1 div.sk-parallel-item:last-child::after {align-self: flex-start;width: 50%;}#sk-container-id-1 div.sk-parallel-item:only-child::after {width: 0;}#sk-container-id-1 div.sk-dashed-wrapped {border: 1px dashed gray;margin: 0 0.4em 0.5em 0.4em;box-sizing: border-box;padding-bottom: 0.4em;background-color: white;}#sk-container-id-1 div.sk-label label {font-family: monospace;font-weight: bold;display: inline-block;line-height: 1.2em;}#sk-container-id-1 div.sk-label-container {text-align: center;}#sk-container-id-1 div.sk-container {/* jupyter's `normalize.less` sets `[hidden] { display: none; }` but bootstrap.min.css set `[hidden] { display: none !important; }` so we also need the `!important` here to be able to override the default hidden behavior on the sphinx rendered scikit-learn.org. See: https://github.com/scikit-learn/scikit-learn/issues/21755 */display: inline-block !important;position: relative;}#sk-container-id-1 div.sk-text-repr-fallback {display: none;}</style><div id=\"sk-container-id-1\" class=\"sk-top-container\"><div class=\"sk-text-repr-fallback\"><pre>LogisticRegression()</pre><b>In a Jupyter environment, please rerun this cell to show the HTML representation or trust the notebook. <br />On GitHub, the HTML representation is unable to render, please try loading this page with nbviewer.org.</b></div><div class=\"sk-container\" hidden><div class=\"sk-item\"><div class=\"sk-estimator sk-toggleable\"><input class=\"sk-toggleable__control sk-hidden--visually\" id=\"sk-estimator-id-1\" type=\"checkbox\" checked><label for=\"sk-estimator-id-1\" class=\"sk-toggleable__label sk-toggleable__label-arrow\">LogisticRegression</label><div class=\"sk-toggleable__content\"><pre>LogisticRegression()</pre></div></div></div></div></div>"
      ],
      "text/plain": [
       "LogisticRegression()"
      ]
     },
     "execution_count": 8,
     "metadata": {},
     "output_type": "execute_result"
    }
   ],
   "source": [
    "# 7. Melatih model klasifikasi\n",
    "model = LogisticRegression()\n",
    "model.fit(X_train, y_train)"
   ]
  },
  {
   "cell_type": "markdown",
   "id": "ea4adb84",
   "metadata": {
    "papermill": {
     "duration": 0.021794,
     "end_time": "2024-06-23T03:57:18.742278",
     "exception": false,
     "start_time": "2024-06-23T03:57:18.720484",
     "status": "completed"
    },
    "tags": []
   },
   "source": [
    "**Model evaluation**"
   ]
  },
  {
   "cell_type": "code",
   "execution_count": 9,
   "id": "65aa5ea8",
   "metadata": {
    "execution": {
     "iopub.execute_input": "2024-06-23T03:57:18.796437Z",
     "iopub.status.busy": "2024-06-23T03:57:18.795767Z",
     "iopub.status.idle": "2024-06-23T03:57:18.927931Z",
     "shell.execute_reply": "2024-06-23T03:57:18.926534Z"
    },
    "papermill": {
     "duration": 0.158892,
     "end_time": "2024-06-23T03:57:18.930366",
     "exception": false,
     "start_time": "2024-06-23T03:57:18.771474",
     "status": "completed"
    },
    "tags": []
   },
   "outputs": [
    {
     "name": "stdout",
     "output_type": "stream",
     "text": [
      "Accuracy: 0.8165157871494811\n",
      "              precision    recall  f1-score   support\n",
      "\n",
      "    negative       0.56      0.41      0.48       457\n",
      "     neutral       0.46      0.20      0.28       588\n",
      "    positive       0.86      0.97      0.91      3484\n",
      "\n",
      "    accuracy                           0.82      4529\n",
      "   macro avg       0.63      0.53      0.56      4529\n",
      "weighted avg       0.78      0.82      0.79      4529\n",
      "\n"
     ]
    }
   ],
   "source": [
    "# 8. Evaluasi model\n",
    "y_pred = model.predict(X_test)\n",
    "print(f'Accuracy: {accuracy_score(y_test, y_pred)}')\n",
    "print(classification_report(y_test, y_pred))"
   ]
  },
  {
   "cell_type": "markdown",
   "id": "2eb8d473",
   "metadata": {
    "papermill": {
     "duration": 0.005005,
     "end_time": "2024-06-23T03:57:18.940715",
     "exception": false,
     "start_time": "2024-06-23T03:57:18.935710",
     "status": "completed"
    },
    "tags": []
   },
   "source": [
    "**Added a sentiment prediction column to the original DataFrame**"
   ]
  },
  {
   "cell_type": "code",
   "execution_count": 10,
   "id": "62240e5e",
   "metadata": {
    "execution": {
     "iopub.execute_input": "2024-06-23T03:57:18.953043Z",
     "iopub.status.busy": "2024-06-23T03:57:18.952692Z",
     "iopub.status.idle": "2024-06-23T03:57:38.597529Z",
     "shell.execute_reply": "2024-06-23T03:57:38.596123Z"
    },
    "papermill": {
     "duration": 19.654318,
     "end_time": "2024-06-23T03:57:38.600445",
     "exception": false,
     "start_time": "2024-06-23T03:57:18.946127",
     "status": "completed"
    },
    "tags": []
   },
   "outputs": [],
   "source": [
    "# 9. Menambahkan kolom prediksi sentimen ke DataFrame asli\n",
    "df['Sentiment'] = df['Review.Text'].apply(lambda text: model.predict(vectorizer.transform([text]))[0])"
   ]
  },
  {
   "cell_type": "markdown",
   "id": "efa4ded8",
   "metadata": {
    "papermill": {
     "duration": 0.005945,
     "end_time": "2024-06-23T03:57:38.612956",
     "exception": false,
     "start_time": "2024-06-23T03:57:38.607011",
     "status": "completed"
    },
    "tags": []
   },
   "source": [
    "**Save the DataFrame with the prediction column to a new file**"
   ]
  },
  {
   "cell_type": "code",
   "execution_count": 11,
   "id": "090eb3b6",
   "metadata": {
    "execution": {
     "iopub.execute_input": "2024-06-23T03:57:38.626290Z",
     "iopub.status.busy": "2024-06-23T03:57:38.625872Z",
     "iopub.status.idle": "2024-06-23T03:57:38.911627Z",
     "shell.execute_reply": "2024-06-23T03:57:38.910239Z"
    },
    "papermill": {
     "duration": 0.294957,
     "end_time": "2024-06-23T03:57:38.914132",
     "exception": false,
     "start_time": "2024-06-23T03:57:38.619175",
     "status": "completed"
    },
    "tags": []
   },
   "outputs": [
    {
     "name": "stdout",
     "output_type": "stream",
     "text": [
      "Hasil prediksi sentimen telah disimpan ke 'Women_s_E-Commerce_Clothing_Reviews_with_Sentiment.csv'.\n"
     ]
    }
   ],
   "source": [
    "# 10. Menyimpan DataFrame dengan kolom prediksi ke file baru\n",
    "df.to_csv('Women_s_E-Commerce_Clothing_Reviews_with_Sentiment.csv', sep=';', index=False)\n",
    "\n",
    "print(\"Hasil prediksi sentimen telah disimpan ke 'Women_s_E-Commerce_Clothing_Reviews_with_Sentiment.csv'.\")"
   ]
  }
 ],
 "metadata": {
  "kaggle": {
   "accelerator": "none",
   "dataSources": [
    {
     "datasetId": 5184465,
     "sourceId": 8654523,
     "sourceType": "datasetVersion"
    }
   ],
   "dockerImageVersionId": 30732,
   "isGpuEnabled": false,
   "isInternetEnabled": true,
   "language": "python",
   "sourceType": "notebook"
  },
  "kernelspec": {
   "display_name": "Python 3",
   "language": "python",
   "name": "python3"
  },
  "language_info": {
   "codemirror_mode": {
    "name": "ipython",
    "version": 3
   },
   "file_extension": ".py",
   "mimetype": "text/x-python",
   "name": "python",
   "nbconvert_exporter": "python",
   "pygments_lexer": "ipython3",
   "version": "3.10.13"
  },
  "papermill": {
   "default_parameters": {},
   "duration": 29.547604,
   "end_time": "2024-06-23T03:57:39.541514",
   "environment_variables": {},
   "exception": null,
   "input_path": "__notebook__.ipynb",
   "output_path": "__notebook__.ipynb",
   "parameters": {},
   "start_time": "2024-06-23T03:57:09.993910",
   "version": "2.5.0"
  }
 },
 "nbformat": 4,
 "nbformat_minor": 5
}

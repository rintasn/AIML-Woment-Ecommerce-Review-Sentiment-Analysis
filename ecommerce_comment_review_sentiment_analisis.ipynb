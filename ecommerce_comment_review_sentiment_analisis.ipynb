{
 "cells": [
  {
   "cell_type": "code",
   "execution_count": 1,
   "id": "4d5be28d",
   "metadata": {
    "_cell_guid": "b1076dfc-b9ad-4769-8c92-a6c4dae69d19",
    "_uuid": "8f2839f25d086af736a60e9eeb907d3b93b6e0e5",
    "execution": {
     "iopub.execute_input": "2024-06-23T04:13:21.221965Z",
     "iopub.status.busy": "2024-06-23T04:13:21.221439Z",
     "iopub.status.idle": "2024-06-23T04:13:22.161466Z",
     "shell.execute_reply": "2024-06-23T04:13:22.159981Z"
    },
    "papermill": {
     "duration": 0.956832,
     "end_time": "2024-06-23T04:13:22.164249",
     "exception": false,
     "start_time": "2024-06-23T04:13:21.207417",
     "status": "completed"
    },
    "tags": []
   },
   "outputs": [
    {
     "name": "stdout",
     "output_type": "stream",
     "text": [
      "/kaggle/input/womens-e-commerce-clothing-reviews/Women_s_E-Commerce_Clothing_Reviews_1594_1.csv\n"
     ]
    }
   ],
   "source": [
    "# This Python 3 environment comes with many helpful analytics libraries installed\n",
    "# It is defined by the kaggle/python Docker image: https://github.com/kaggle/docker-python\n",
    "# For example, here's several helpful packages to load\n",
    "\n",
    "import numpy as np # linear algebra\n",
    "import pandas as pd # data processing, CSV file I/O (e.g. pd.read_csv)\n",
    "\n",
    "# Input data files are available in the read-only \"../input/\" directory\n",
    "# For example, running this (by clicking run or pressing Shift+Enter) will list all files under the input directory\n",
    "\n",
    "import os\n",
    "for dirname, _, filenames in os.walk('/kaggle/input'):\n",
    "    for filename in filenames:\n",
    "        print(os.path.join(dirname, filename))\n",
    "\n",
    "# You can write up to 20GB to the current directory (/kaggle/working/) that gets preserved as output when you create a version using \"Save & Run All\" \n",
    "# You can also write temporary files to /kaggle/temp/, but they won't be saved outside of the current session"
   ]
  },
  {
   "cell_type": "markdown",
   "id": "5fb483f6",
   "metadata": {
    "papermill": {
     "duration": 0.011097,
     "end_time": "2024-06-23T04:13:22.187228",
     "exception": false,
     "start_time": "2024-06-23T04:13:22.176131",
     "status": "completed"
    },
    "tags": []
   },
   "source": [
    "**Read CSV files with semicolon separator**"
   ]
  },
  {
   "cell_type": "code",
   "execution_count": 2,
   "id": "fdf4febd",
   "metadata": {
    "execution": {
     "iopub.execute_input": "2024-06-23T04:13:22.213345Z",
     "iopub.status.busy": "2024-06-23T04:13:22.211884Z",
     "iopub.status.idle": "2024-06-23T04:13:23.940825Z",
     "shell.execute_reply": "2024-06-23T04:13:23.939554Z"
    },
    "papermill": {
     "duration": 1.745188,
     "end_time": "2024-06-23T04:13:23.944006",
     "exception": false,
     "start_time": "2024-06-23T04:13:22.198818",
     "status": "completed"
    },
    "tags": []
   },
   "outputs": [],
   "source": [
    "import pandas as pd\n",
    "from sklearn.model_selection import train_test_split\n",
    "from sklearn.feature_extraction.text import TfidfVectorizer\n",
    "from sklearn.linear_model import LogisticRegression\n",
    "from sklearn.metrics import accuracy_score, classification_report\n",
    "from scipy.stats import pearsonr\n",
    "\n",
    "# 1. Membaca file CSV dengan pemisah titik koma\n",
    "df = pd.read_csv('/kaggle/input/womens-e-commerce-clothing-reviews/Women_s_E-Commerce_Clothing_Reviews_1594_1.csv', sep=';', on_bad_lines='skip')"
   ]
  },
  {
   "cell_type": "markdown",
   "id": "786d730f",
   "metadata": {
    "papermill": {
     "duration": 0.011229,
     "end_time": "2024-06-23T04:13:23.967351",
     "exception": false,
     "start_time": "2024-06-23T04:13:23.956122",
     "status": "completed"
    },
    "tags": []
   },
   "source": [
    "**Data preview.**\n",
    "\n",
    "**Clean data (delete rows with missing values ​​in 'Review.Text' and 'Rating' columns).**"
   ]
  },
  {
   "cell_type": "code",
   "execution_count": 3,
   "id": "3d426af0",
   "metadata": {
    "execution": {
     "iopub.execute_input": "2024-06-23T04:13:23.992883Z",
     "iopub.status.busy": "2024-06-23T04:13:23.992341Z",
     "iopub.status.idle": "2024-06-23T04:13:24.037749Z",
     "shell.execute_reply": "2024-06-23T04:13:24.036125Z"
    },
    "papermill": {
     "duration": 0.061795,
     "end_time": "2024-06-23T04:13:24.040790",
     "exception": false,
     "start_time": "2024-06-23T04:13:23.978995",
     "status": "completed"
    },
    "tags": []
   },
   "outputs": [
    {
     "name": "stdout",
     "output_type": "stream",
     "text": [
      "   Unnamed: 0  Clothing.ID  Age                    Title  \\\n",
      "0           1          767   33                      NaN   \n",
      "1           2         1080   34                      NaN   \n",
      "2           3         1077   60  Some major design flaws   \n",
      "3           4         1049   50         My favorite buy!   \n",
      "4           5          847   47         Flattering shirt   \n",
      "\n",
      "                                         Review.Text  Rating  Recommended.IND  \\\n",
      "0  Absolutely wonderful - silky and sexy and comf...       4                1   \n",
      "1  Love this dress!  it's sooo pretty.  i happene...       5                1   \n",
      "2  I had such high hopes for this dress and reall...       3                0   \n",
      "3  I love, love, love this jumpsuit. it's fun, fl...       5                1   \n",
      "4  This shirt is very flattering to all due to th...       5                1   \n",
      "\n",
      "   Positive.Feedback.Count   Division.Name Department.Name Class.Name  \n",
      "0                        0       Initmates        Intimate  Intimates  \n",
      "1                        4         General         Dresses    Dresses  \n",
      "2                        0         General         Dresses    Dresses  \n",
      "3                        0  General Petite         Bottoms      Pants  \n",
      "4                        6         General            Tops    Blouses  \n"
     ]
    }
   ],
   "source": [
    "# 2. Pratinjau data\n",
    "print(df.head())\n",
    "\n",
    "# 3. Bersihkan data (menghapus baris dengan nilai yang hilang di kolom 'Review.Text', 'Title', dan 'Rating')\n",
    "df.dropna(subset=['Review.Text', 'Title', 'Rating'], inplace=True)"
   ]
  },
  {
   "cell_type": "markdown",
   "id": "e9f363f2",
   "metadata": {
    "papermill": {
     "duration": 0.011391,
     "end_time": "2024-06-23T04:13:24.064254",
     "exception": false,
     "start_time": "2024-06-23T04:13:24.052863",
     "status": "completed"
    },
    "tags": []
   },
   "source": [
    "**Text processing**"
   ]
  },
  {
   "cell_type": "code",
   "execution_count": 4,
   "id": "db0dc9f5",
   "metadata": {
    "execution": {
     "iopub.execute_input": "2024-06-23T04:13:24.090264Z",
     "iopub.status.busy": "2024-06-23T04:13:24.089764Z",
     "iopub.status.idle": "2024-06-23T04:13:24.096266Z",
     "shell.execute_reply": "2024-06-23T04:13:24.094821Z"
    },
    "papermill": {
     "duration": 0.022979,
     "end_time": "2024-06-23T04:13:24.099385",
     "exception": false,
     "start_time": "2024-06-23T04:13:24.076406",
     "status": "completed"
    },
    "tags": []
   },
   "outputs": [],
   "source": [
    "# 4. Pemrosesan teks\n",
    "X_review = df['Review.Text']\n",
    "y_review = df['Rating']"
   ]
  },
  {
   "cell_type": "markdown",
   "id": "4e0dce91",
   "metadata": {
    "papermill": {
     "duration": 0.011207,
     "end_time": "2024-06-23T04:13:24.122329",
     "exception": false,
     "start_time": "2024-06-23T04:13:24.111122",
     "status": "completed"
    },
    "tags": []
   },
   "source": [
    "**Categorize ratings into 3 classes: negative (1-2), neutral (3), positive (4-5)**"
   ]
  },
  {
   "cell_type": "code",
   "execution_count": 5,
   "id": "91c22c98",
   "metadata": {
    "execution": {
     "iopub.execute_input": "2024-06-23T04:13:24.148309Z",
     "iopub.status.busy": "2024-06-23T04:13:24.147076Z",
     "iopub.status.idle": "2024-06-23T04:13:24.161653Z",
     "shell.execute_reply": "2024-06-23T04:13:24.160256Z"
    },
    "papermill": {
     "duration": 0.030683,
     "end_time": "2024-06-23T04:13:24.164659",
     "exception": false,
     "start_time": "2024-06-23T04:13:24.133976",
     "status": "completed"
    },
    "tags": []
   },
   "outputs": [],
   "source": [
    "# Mengkategorikan rating menjadi 3 kelas: negatif (1-2), netral (3), positif (4-5)\n",
    "y_review = y_review.apply(lambda x: 'positive' if x > 3 else ('negative' if x < 3 else 'neutral'))"
   ]
  },
  {
   "cell_type": "markdown",
   "id": "1825dd74",
   "metadata": {
    "papermill": {
     "duration": 0.011712,
     "end_time": "2024-06-23T04:13:24.189151",
     "exception": false,
     "start_time": "2024-06-23T04:13:24.177439",
     "status": "completed"
    },
    "tags": []
   },
   "source": [
    "**Feature extraction using TF-IDF**"
   ]
  },
  {
   "cell_type": "code",
   "execution_count": 6,
   "id": "13448826",
   "metadata": {
    "execution": {
     "iopub.execute_input": "2024-06-23T04:13:24.215343Z",
     "iopub.status.busy": "2024-06-23T04:13:24.214898Z",
     "iopub.status.idle": "2024-06-23T04:13:25.682016Z",
     "shell.execute_reply": "2024-06-23T04:13:25.680755Z"
    },
    "papermill": {
     "duration": 1.483775,
     "end_time": "2024-06-23T04:13:25.685062",
     "exception": false,
     "start_time": "2024-06-23T04:13:24.201287",
     "status": "completed"
    },
    "tags": []
   },
   "outputs": [],
   "source": [
    "# 5. Ekstraksi fitur menggunakan TF-IDF untuk 'Review.Text'\n",
    "vectorizer_review = TfidfVectorizer(stop_words='english', max_features=5000)\n",
    "X_review_tfidf = vectorizer_review.fit_transform(X_review)"
   ]
  },
  {
   "cell_type": "markdown",
   "id": "e6c4a0cc",
   "metadata": {
    "papermill": {
     "duration": 0.011349,
     "end_time": "2024-06-23T04:13:25.708388",
     "exception": false,
     "start_time": "2024-06-23T04:13:25.697039",
     "status": "completed"
    },
    "tags": []
   },
   "source": [
    "**Split data into training and test sets**"
   ]
  },
  {
   "cell_type": "code",
   "execution_count": 7,
   "id": "f6b655cc",
   "metadata": {
    "execution": {
     "iopub.execute_input": "2024-06-23T04:13:25.734641Z",
     "iopub.status.busy": "2024-06-23T04:13:25.733294Z",
     "iopub.status.idle": "2024-06-23T04:13:25.749071Z",
     "shell.execute_reply": "2024-06-23T04:13:25.747776Z"
    },
    "papermill": {
     "duration": 0.031734,
     "end_time": "2024-06-23T04:13:25.751893",
     "exception": false,
     "start_time": "2024-06-23T04:13:25.720159",
     "status": "completed"
    },
    "tags": []
   },
   "outputs": [],
   "source": [
    "# 6. Membagi data menjadi set pelatihan dan pengujian untuk 'Review.Text'\n",
    "X_review_train, X_review_test, y_review_train, y_review_test = train_test_split(X_review_tfidf, y_review, test_size=0.2, random_state=42)"
   ]
  },
  {
   "cell_type": "markdown",
   "id": "8e73738c",
   "metadata": {
    "papermill": {
     "duration": 0.011065,
     "end_time": "2024-06-23T04:13:25.774449",
     "exception": false,
     "start_time": "2024-06-23T04:13:25.763384",
     "status": "completed"
    },
    "tags": []
   },
   "source": [
    "**Training model classification**"
   ]
  },
  {
   "cell_type": "code",
   "execution_count": 8,
   "id": "753941b5",
   "metadata": {
    "execution": {
     "iopub.execute_input": "2024-06-23T04:13:25.800331Z",
     "iopub.status.busy": "2024-06-23T04:13:25.799096Z",
     "iopub.status.idle": "2024-06-23T04:13:28.429046Z",
     "shell.execute_reply": "2024-06-23T04:13:28.427300Z"
    },
    "papermill": {
     "duration": 2.647876,
     "end_time": "2024-06-23T04:13:28.433944",
     "exception": false,
     "start_time": "2024-06-23T04:13:25.786068",
     "status": "completed"
    },
    "tags": []
   },
   "outputs": [
    {
     "name": "stderr",
     "output_type": "stream",
     "text": [
      "/opt/conda/lib/python3.10/site-packages/sklearn/linear_model/_logistic.py:458: ConvergenceWarning: lbfgs failed to converge (status=1):\n",
      "STOP: TOTAL NO. of ITERATIONS REACHED LIMIT.\n",
      "\n",
      "Increase the number of iterations (max_iter) or scale the data as shown in:\n",
      "    https://scikit-learn.org/stable/modules/preprocessing.html\n",
      "Please also refer to the documentation for alternative solver options:\n",
      "    https://scikit-learn.org/stable/modules/linear_model.html#logistic-regression\n",
      "  n_iter_i = _check_optimize_result(\n"
     ]
    },
    {
     "data": {
      "text/html": [
       "<style>#sk-container-id-1 {color: black;background-color: white;}#sk-container-id-1 pre{padding: 0;}#sk-container-id-1 div.sk-toggleable {background-color: white;}#sk-container-id-1 label.sk-toggleable__label {cursor: pointer;display: block;width: 100%;margin-bottom: 0;padding: 0.3em;box-sizing: border-box;text-align: center;}#sk-container-id-1 label.sk-toggleable__label-arrow:before {content: \"▸\";float: left;margin-right: 0.25em;color: #696969;}#sk-container-id-1 label.sk-toggleable__label-arrow:hover:before {color: black;}#sk-container-id-1 div.sk-estimator:hover label.sk-toggleable__label-arrow:before {color: black;}#sk-container-id-1 div.sk-toggleable__content {max-height: 0;max-width: 0;overflow: hidden;text-align: left;background-color: #f0f8ff;}#sk-container-id-1 div.sk-toggleable__content pre {margin: 0.2em;color: black;border-radius: 0.25em;background-color: #f0f8ff;}#sk-container-id-1 input.sk-toggleable__control:checked~div.sk-toggleable__content {max-height: 200px;max-width: 100%;overflow: auto;}#sk-container-id-1 input.sk-toggleable__control:checked~label.sk-toggleable__label-arrow:before {content: \"▾\";}#sk-container-id-1 div.sk-estimator input.sk-toggleable__control:checked~label.sk-toggleable__label {background-color: #d4ebff;}#sk-container-id-1 div.sk-label input.sk-toggleable__control:checked~label.sk-toggleable__label {background-color: #d4ebff;}#sk-container-id-1 input.sk-hidden--visually {border: 0;clip: rect(1px 1px 1px 1px);clip: rect(1px, 1px, 1px, 1px);height: 1px;margin: -1px;overflow: hidden;padding: 0;position: absolute;width: 1px;}#sk-container-id-1 div.sk-estimator {font-family: monospace;background-color: #f0f8ff;border: 1px dotted black;border-radius: 0.25em;box-sizing: border-box;margin-bottom: 0.5em;}#sk-container-id-1 div.sk-estimator:hover {background-color: #d4ebff;}#sk-container-id-1 div.sk-parallel-item::after {content: \"\";width: 100%;border-bottom: 1px solid gray;flex-grow: 1;}#sk-container-id-1 div.sk-label:hover label.sk-toggleable__label {background-color: #d4ebff;}#sk-container-id-1 div.sk-serial::before {content: \"\";position: absolute;border-left: 1px solid gray;box-sizing: border-box;top: 0;bottom: 0;left: 50%;z-index: 0;}#sk-container-id-1 div.sk-serial {display: flex;flex-direction: column;align-items: center;background-color: white;padding-right: 0.2em;padding-left: 0.2em;position: relative;}#sk-container-id-1 div.sk-item {position: relative;z-index: 1;}#sk-container-id-1 div.sk-parallel {display: flex;align-items: stretch;justify-content: center;background-color: white;position: relative;}#sk-container-id-1 div.sk-item::before, #sk-container-id-1 div.sk-parallel-item::before {content: \"\";position: absolute;border-left: 1px solid gray;box-sizing: border-box;top: 0;bottom: 0;left: 50%;z-index: -1;}#sk-container-id-1 div.sk-parallel-item {display: flex;flex-direction: column;z-index: 1;position: relative;background-color: white;}#sk-container-id-1 div.sk-parallel-item:first-child::after {align-self: flex-end;width: 50%;}#sk-container-id-1 div.sk-parallel-item:last-child::after {align-self: flex-start;width: 50%;}#sk-container-id-1 div.sk-parallel-item:only-child::after {width: 0;}#sk-container-id-1 div.sk-dashed-wrapped {border: 1px dashed gray;margin: 0 0.4em 0.5em 0.4em;box-sizing: border-box;padding-bottom: 0.4em;background-color: white;}#sk-container-id-1 div.sk-label label {font-family: monospace;font-weight: bold;display: inline-block;line-height: 1.2em;}#sk-container-id-1 div.sk-label-container {text-align: center;}#sk-container-id-1 div.sk-container {/* jupyter's `normalize.less` sets `[hidden] { display: none; }` but bootstrap.min.css set `[hidden] { display: none !important; }` so we also need the `!important` here to be able to override the default hidden behavior on the sphinx rendered scikit-learn.org. See: https://github.com/scikit-learn/scikit-learn/issues/21755 */display: inline-block !important;position: relative;}#sk-container-id-1 div.sk-text-repr-fallback {display: none;}</style><div id=\"sk-container-id-1\" class=\"sk-top-container\"><div class=\"sk-text-repr-fallback\"><pre>LogisticRegression()</pre><b>In a Jupyter environment, please rerun this cell to show the HTML representation or trust the notebook. <br />On GitHub, the HTML representation is unable to render, please try loading this page with nbviewer.org.</b></div><div class=\"sk-container\" hidden><div class=\"sk-item\"><div class=\"sk-estimator sk-toggleable\"><input class=\"sk-toggleable__control sk-hidden--visually\" id=\"sk-estimator-id-1\" type=\"checkbox\" checked><label for=\"sk-estimator-id-1\" class=\"sk-toggleable__label sk-toggleable__label-arrow\">LogisticRegression</label><div class=\"sk-toggleable__content\"><pre>LogisticRegression()</pre></div></div></div></div></div>"
      ],
      "text/plain": [
       "LogisticRegression()"
      ]
     },
     "execution_count": 8,
     "metadata": {},
     "output_type": "execute_result"
    }
   ],
   "source": [
    "# 7. Melatih model klasifikasi untuk 'Review.Text'\n",
    "model_review = LogisticRegression()\n",
    "model_review.fit(X_review_train, y_review_train)"
   ]
  },
  {
   "cell_type": "markdown",
   "id": "799e46af",
   "metadata": {
    "papermill": {
     "duration": 0.017044,
     "end_time": "2024-06-23T04:13:28.521982",
     "exception": false,
     "start_time": "2024-06-23T04:13:28.504938",
     "status": "completed"
    },
    "tags": []
   },
   "source": [
    "**Model evaluation**"
   ]
  },
  {
   "cell_type": "code",
   "execution_count": 9,
   "id": "8db5b11f",
   "metadata": {
    "execution": {
     "iopub.execute_input": "2024-06-23T04:13:28.548424Z",
     "iopub.status.busy": "2024-06-23T04:13:28.548030Z",
     "iopub.status.idle": "2024-06-23T04:13:28.750382Z",
     "shell.execute_reply": "2024-06-23T04:13:28.748988Z"
    },
    "papermill": {
     "duration": 0.218893,
     "end_time": "2024-06-23T04:13:28.753268",
     "exception": false,
     "start_time": "2024-06-23T04:13:28.534375",
     "status": "completed"
    },
    "tags": []
   },
   "outputs": [
    {
     "name": "stdout",
     "output_type": "stream",
     "text": [
      "Accuracy for Review.Text: 0.8269377382465057\n",
      "              precision    recall  f1-score   support\n",
      "\n",
      "    negative       0.66      0.39      0.49       438\n",
      "     neutral       0.42      0.26      0.32       458\n",
      "    positive       0.87      0.98      0.92      3039\n",
      "\n",
      "    accuracy                           0.83      3935\n",
      "   macro avg       0.65      0.54      0.58      3935\n",
      "weighted avg       0.80      0.83      0.80      3935\n",
      "\n"
     ]
    }
   ],
   "source": [
    "# 8. Evaluasi model untuk 'Review.Text'\n",
    "y_review_pred = model_review.predict(X_review_test)\n",
    "print(f'Accuracy for Review.Text: {accuracy_score(y_review_test, y_review_pred)}')\n",
    "print(classification_report(y_review_test, y_review_pred))"
   ]
  },
  {
   "cell_type": "markdown",
   "id": "ce51fffe",
   "metadata": {
    "papermill": {
     "duration": 0.012112,
     "end_time": "2024-06-23T04:13:28.777845",
     "exception": false,
     "start_time": "2024-06-23T04:13:28.765733",
     "status": "completed"
    },
    "tags": []
   },
   "source": [
    "**Added a sentiment prediction column to the original DataFrame**"
   ]
  },
  {
   "cell_type": "code",
   "execution_count": 10,
   "id": "91acfd73",
   "metadata": {
    "execution": {
     "iopub.execute_input": "2024-06-23T04:13:28.804311Z",
     "iopub.status.busy": "2024-06-23T04:13:28.803893Z",
     "iopub.status.idle": "2024-06-23T04:13:48.913065Z",
     "shell.execute_reply": "2024-06-23T04:13:48.911702Z"
    },
    "papermill": {
     "duration": 20.126451,
     "end_time": "2024-06-23T04:13:48.916758",
     "exception": false,
     "start_time": "2024-06-23T04:13:28.790307",
     "status": "completed"
    },
    "tags": []
   },
   "outputs": [],
   "source": [
    "# 9. Prediksi sentimen untuk 'Review.Text'\n",
    "df['Review.Sentiment'] = df['Review.Text'].apply(lambda text: model_review.predict(vectorizer_review.transform([text]))[0])"
   ]
  },
  {
   "cell_type": "markdown",
   "id": "a4a05afc",
   "metadata": {
    "papermill": {
     "duration": 0.012102,
     "end_time": "2024-06-23T04:13:48.946821",
     "exception": false,
     "start_time": "2024-06-23T04:13:48.934719",
     "status": "completed"
    },
    "tags": []
   },
   "source": [
    "**Text processing for \"title\"**"
   ]
  },
  {
   "cell_type": "code",
   "execution_count": 11,
   "id": "7971d4a2",
   "metadata": {
    "execution": {
     "iopub.execute_input": "2024-06-23T04:13:48.974188Z",
     "iopub.status.busy": "2024-06-23T04:13:48.973292Z",
     "iopub.status.idle": "2024-06-23T04:13:48.980252Z",
     "shell.execute_reply": "2024-06-23T04:13:48.978952Z"
    },
    "papermill": {
     "duration": 0.024231,
     "end_time": "2024-06-23T04:13:48.983156",
     "exception": false,
     "start_time": "2024-06-23T04:13:48.958925",
     "status": "completed"
    },
    "tags": []
   },
   "outputs": [],
   "source": [
    "# 10. Pemrosesan teks untuk 'Title'\n",
    "X_title = df['Title']\n",
    "y_title = df['Rating']"
   ]
  },
  {
   "cell_type": "markdown",
   "id": "12859145",
   "metadata": {
    "papermill": {
     "duration": 0.011846,
     "end_time": "2024-06-23T04:13:49.009584",
     "exception": false,
     "start_time": "2024-06-23T04:13:48.997738",
     "status": "completed"
    },
    "tags": []
   },
   "source": [
    "**Categorize ratings into 3 classes: negative (1-2), neutral (3), positive (4-5)**"
   ]
  },
  {
   "cell_type": "code",
   "execution_count": 12,
   "id": "75c9061d",
   "metadata": {
    "execution": {
     "iopub.execute_input": "2024-06-23T04:13:49.035528Z",
     "iopub.status.busy": "2024-06-23T04:13:49.035098Z",
     "iopub.status.idle": "2024-06-23T04:13:49.048821Z",
     "shell.execute_reply": "2024-06-23T04:13:49.047688Z"
    },
    "papermill": {
     "duration": 0.030236,
     "end_time": "2024-06-23T04:13:49.051924",
     "exception": false,
     "start_time": "2024-06-23T04:13:49.021688",
     "status": "completed"
    },
    "tags": []
   },
   "outputs": [],
   "source": [
    "y_title = y_title.apply(lambda x: 'positive' if x > 3 else ('negative' if x < 3 else 'neutral'))"
   ]
  },
  {
   "cell_type": "markdown",
   "id": "1cf268d5",
   "metadata": {
    "papermill": {
     "duration": 0.01262,
     "end_time": "2024-06-23T04:13:49.082352",
     "exception": false,
     "start_time": "2024-06-23T04:13:49.069732",
     "status": "completed"
    },
    "tags": []
   },
   "source": [
    "**Feature extraction using TF-IDF for 'Title'**"
   ]
  },
  {
   "cell_type": "code",
   "execution_count": 13,
   "id": "07b3514b",
   "metadata": {
    "execution": {
     "iopub.execute_input": "2024-06-23T04:13:49.108403Z",
     "iopub.status.busy": "2024-06-23T04:13:49.107986Z",
     "iopub.status.idle": "2024-06-23T04:13:49.309643Z",
     "shell.execute_reply": "2024-06-23T04:13:49.308211Z"
    },
    "papermill": {
     "duration": 0.218369,
     "end_time": "2024-06-23T04:13:49.312902",
     "exception": false,
     "start_time": "2024-06-23T04:13:49.094533",
     "status": "completed"
    },
    "tags": []
   },
   "outputs": [],
   "source": [
    "vectorizer_title = TfidfVectorizer(stop_words='english', max_features=5000)\n",
    "X_title_tfidf = vectorizer_title.fit_transform(X_title)"
   ]
  },
  {
   "cell_type": "markdown",
   "id": "73bb781e",
   "metadata": {
    "papermill": {
     "duration": 0.012162,
     "end_time": "2024-06-23T04:13:49.337830",
     "exception": false,
     "start_time": "2024-06-23T04:13:49.325668",
     "status": "completed"
    },
    "tags": []
   },
   "source": [
    "**Splitting data into training and test sets for 'Title'**"
   ]
  },
  {
   "cell_type": "code",
   "execution_count": 14,
   "id": "5eb3721b",
   "metadata": {
    "execution": {
     "iopub.execute_input": "2024-06-23T04:13:49.365390Z",
     "iopub.status.busy": "2024-06-23T04:13:49.364438Z",
     "iopub.status.idle": "2024-06-23T04:13:49.374800Z",
     "shell.execute_reply": "2024-06-23T04:13:49.373700Z"
    },
    "papermill": {
     "duration": 0.027271,
     "end_time": "2024-06-23T04:13:49.377819",
     "exception": false,
     "start_time": "2024-06-23T04:13:49.350548",
     "status": "completed"
    },
    "tags": []
   },
   "outputs": [],
   "source": [
    "X_title_train, X_title_test, y_title_train, y_title_test = train_test_split(X_title_tfidf, y_title, test_size=0.2, random_state=42)"
   ]
  },
  {
   "cell_type": "markdown",
   "id": "e99f6519",
   "metadata": {
    "papermill": {
     "duration": 0.012533,
     "end_time": "2024-06-23T04:13:49.403052",
     "exception": false,
     "start_time": "2024-06-23T04:13:49.390519",
     "status": "completed"
    },
    "tags": []
   },
   "source": [
    "**Training a classification model for 'Title'**"
   ]
  },
  {
   "cell_type": "code",
   "execution_count": 15,
   "id": "64e1de13",
   "metadata": {
    "execution": {
     "iopub.execute_input": "2024-06-23T04:13:49.431311Z",
     "iopub.status.busy": "2024-06-23T04:13:49.429936Z",
     "iopub.status.idle": "2024-06-23T04:13:50.779444Z",
     "shell.execute_reply": "2024-06-23T04:13:50.777642Z"
    },
    "papermill": {
     "duration": 1.368406,
     "end_time": "2024-06-23T04:13:50.784008",
     "exception": false,
     "start_time": "2024-06-23T04:13:49.415602",
     "status": "completed"
    },
    "tags": []
   },
   "outputs": [
    {
     "name": "stderr",
     "output_type": "stream",
     "text": [
      "/opt/conda/lib/python3.10/site-packages/sklearn/linear_model/_logistic.py:458: ConvergenceWarning: lbfgs failed to converge (status=1):\n",
      "STOP: TOTAL NO. of ITERATIONS REACHED LIMIT.\n",
      "\n",
      "Increase the number of iterations (max_iter) or scale the data as shown in:\n",
      "    https://scikit-learn.org/stable/modules/preprocessing.html\n",
      "Please also refer to the documentation for alternative solver options:\n",
      "    https://scikit-learn.org/stable/modules/linear_model.html#logistic-regression\n",
      "  n_iter_i = _check_optimize_result(\n"
     ]
    },
    {
     "data": {
      "text/html": [
       "<style>#sk-container-id-2 {color: black;background-color: white;}#sk-container-id-2 pre{padding: 0;}#sk-container-id-2 div.sk-toggleable {background-color: white;}#sk-container-id-2 label.sk-toggleable__label {cursor: pointer;display: block;width: 100%;margin-bottom: 0;padding: 0.3em;box-sizing: border-box;text-align: center;}#sk-container-id-2 label.sk-toggleable__label-arrow:before {content: \"▸\";float: left;margin-right: 0.25em;color: #696969;}#sk-container-id-2 label.sk-toggleable__label-arrow:hover:before {color: black;}#sk-container-id-2 div.sk-estimator:hover label.sk-toggleable__label-arrow:before {color: black;}#sk-container-id-2 div.sk-toggleable__content {max-height: 0;max-width: 0;overflow: hidden;text-align: left;background-color: #f0f8ff;}#sk-container-id-2 div.sk-toggleable__content pre {margin: 0.2em;color: black;border-radius: 0.25em;background-color: #f0f8ff;}#sk-container-id-2 input.sk-toggleable__control:checked~div.sk-toggleable__content {max-height: 200px;max-width: 100%;overflow: auto;}#sk-container-id-2 input.sk-toggleable__control:checked~label.sk-toggleable__label-arrow:before {content: \"▾\";}#sk-container-id-2 div.sk-estimator input.sk-toggleable__control:checked~label.sk-toggleable__label {background-color: #d4ebff;}#sk-container-id-2 div.sk-label input.sk-toggleable__control:checked~label.sk-toggleable__label {background-color: #d4ebff;}#sk-container-id-2 input.sk-hidden--visually {border: 0;clip: rect(1px 1px 1px 1px);clip: rect(1px, 1px, 1px, 1px);height: 1px;margin: -1px;overflow: hidden;padding: 0;position: absolute;width: 1px;}#sk-container-id-2 div.sk-estimator {font-family: monospace;background-color: #f0f8ff;border: 1px dotted black;border-radius: 0.25em;box-sizing: border-box;margin-bottom: 0.5em;}#sk-container-id-2 div.sk-estimator:hover {background-color: #d4ebff;}#sk-container-id-2 div.sk-parallel-item::after {content: \"\";width: 100%;border-bottom: 1px solid gray;flex-grow: 1;}#sk-container-id-2 div.sk-label:hover label.sk-toggleable__label {background-color: #d4ebff;}#sk-container-id-2 div.sk-serial::before {content: \"\";position: absolute;border-left: 1px solid gray;box-sizing: border-box;top: 0;bottom: 0;left: 50%;z-index: 0;}#sk-container-id-2 div.sk-serial {display: flex;flex-direction: column;align-items: center;background-color: white;padding-right: 0.2em;padding-left: 0.2em;position: relative;}#sk-container-id-2 div.sk-item {position: relative;z-index: 1;}#sk-container-id-2 div.sk-parallel {display: flex;align-items: stretch;justify-content: center;background-color: white;position: relative;}#sk-container-id-2 div.sk-item::before, #sk-container-id-2 div.sk-parallel-item::before {content: \"\";position: absolute;border-left: 1px solid gray;box-sizing: border-box;top: 0;bottom: 0;left: 50%;z-index: -1;}#sk-container-id-2 div.sk-parallel-item {display: flex;flex-direction: column;z-index: 1;position: relative;background-color: white;}#sk-container-id-2 div.sk-parallel-item:first-child::after {align-self: flex-end;width: 50%;}#sk-container-id-2 div.sk-parallel-item:last-child::after {align-self: flex-start;width: 50%;}#sk-container-id-2 div.sk-parallel-item:only-child::after {width: 0;}#sk-container-id-2 div.sk-dashed-wrapped {border: 1px dashed gray;margin: 0 0.4em 0.5em 0.4em;box-sizing: border-box;padding-bottom: 0.4em;background-color: white;}#sk-container-id-2 div.sk-label label {font-family: monospace;font-weight: bold;display: inline-block;line-height: 1.2em;}#sk-container-id-2 div.sk-label-container {text-align: center;}#sk-container-id-2 div.sk-container {/* jupyter's `normalize.less` sets `[hidden] { display: none; }` but bootstrap.min.css set `[hidden] { display: none !important; }` so we also need the `!important` here to be able to override the default hidden behavior on the sphinx rendered scikit-learn.org. See: https://github.com/scikit-learn/scikit-learn/issues/21755 */display: inline-block !important;position: relative;}#sk-container-id-2 div.sk-text-repr-fallback {display: none;}</style><div id=\"sk-container-id-2\" class=\"sk-top-container\"><div class=\"sk-text-repr-fallback\"><pre>LogisticRegression()</pre><b>In a Jupyter environment, please rerun this cell to show the HTML representation or trust the notebook. <br />On GitHub, the HTML representation is unable to render, please try loading this page with nbviewer.org.</b></div><div class=\"sk-container\" hidden><div class=\"sk-item\"><div class=\"sk-estimator sk-toggleable\"><input class=\"sk-toggleable__control sk-hidden--visually\" id=\"sk-estimator-id-2\" type=\"checkbox\" checked><label for=\"sk-estimator-id-2\" class=\"sk-toggleable__label sk-toggleable__label-arrow\">LogisticRegression</label><div class=\"sk-toggleable__content\"><pre>LogisticRegression()</pre></div></div></div></div></div>"
      ],
      "text/plain": [
       "LogisticRegression()"
      ]
     },
     "execution_count": 15,
     "metadata": {},
     "output_type": "execute_result"
    }
   ],
   "source": [
    "model_title = LogisticRegression()\n",
    "model_title.fit(X_title_train, y_title_train)"
   ]
  },
  {
   "cell_type": "markdown",
   "id": "a81d6d60",
   "metadata": {
    "papermill": {
     "duration": 0.034595,
     "end_time": "2024-06-23T04:13:50.881220",
     "exception": false,
     "start_time": "2024-06-23T04:13:50.846625",
     "status": "completed"
    },
    "tags": []
   },
   "source": [
    "**Model evaluation for 'Title'**"
   ]
  },
  {
   "cell_type": "code",
   "execution_count": 16,
   "id": "e12120a3",
   "metadata": {
    "execution": {
     "iopub.execute_input": "2024-06-23T04:13:50.909454Z",
     "iopub.status.busy": "2024-06-23T04:13:50.908989Z",
     "iopub.status.idle": "2024-06-23T04:13:51.111288Z",
     "shell.execute_reply": "2024-06-23T04:13:51.109990Z"
    },
    "papermill": {
     "duration": 0.220352,
     "end_time": "2024-06-23T04:13:51.114832",
     "exception": false,
     "start_time": "2024-06-23T04:13:50.894480",
     "status": "completed"
    },
    "tags": []
   },
   "outputs": [
    {
     "name": "stdout",
     "output_type": "stream",
     "text": [
      "Accuracy for Title: 0.8213468869123253\n",
      "              precision    recall  f1-score   support\n",
      "\n",
      "    negative       0.64      0.39      0.48       438\n",
      "     neutral       0.41      0.19      0.26       458\n",
      "    positive       0.86      0.98      0.92      3039\n",
      "\n",
      "    accuracy                           0.82      3935\n",
      "   macro avg       0.64      0.52      0.55      3935\n",
      "weighted avg       0.78      0.82      0.79      3935\n",
      "\n"
     ]
    }
   ],
   "source": [
    "y_title_pred = model_title.predict(X_title_test)\n",
    "print(f'Accuracy for Title: {accuracy_score(y_title_test, y_title_pred)}')\n",
    "print(classification_report(y_title_test, y_title_pred))"
   ]
  },
  {
   "cell_type": "markdown",
   "id": "7bd7c3e8",
   "metadata": {
    "papermill": {
     "duration": 0.012606,
     "end_time": "2024-06-23T04:13:51.140557",
     "exception": false,
     "start_time": "2024-06-23T04:13:51.127951",
     "status": "completed"
    },
    "tags": []
   },
   "source": [
    "**Sentiment predictions for 'Title'**"
   ]
  },
  {
   "cell_type": "code",
   "execution_count": 17,
   "id": "99c27b13",
   "metadata": {
    "execution": {
     "iopub.execute_input": "2024-06-23T04:13:51.168026Z",
     "iopub.status.busy": "2024-06-23T04:13:51.167596Z",
     "iopub.status.idle": "2024-06-23T04:14:09.768131Z",
     "shell.execute_reply": "2024-06-23T04:14:09.766732Z"
    },
    "papermill": {
     "duration": 18.617846,
     "end_time": "2024-06-23T04:14:09.771251",
     "exception": false,
     "start_time": "2024-06-23T04:13:51.153405",
     "status": "completed"
    },
    "tags": []
   },
   "outputs": [],
   "source": [
    "df['Title.Sentiment'] = df['Title'].apply(lambda text: model_title.predict(vectorizer_title.transform([text]))[0])"
   ]
  },
  {
   "cell_type": "markdown",
   "id": "3fa1bf7a",
   "metadata": {
    "papermill": {
     "duration": 0.013045,
     "end_time": "2024-06-23T04:14:09.797521",
     "exception": false,
     "start_time": "2024-06-23T04:14:09.784476",
     "status": "completed"
    },
    "tags": []
   },
   "source": [
    "**Convert sentiment to numeric values ​​for correlation**"
   ]
  },
  {
   "cell_type": "code",
   "execution_count": 18,
   "id": "901613c3",
   "metadata": {
    "execution": {
     "iopub.execute_input": "2024-06-23T04:14:09.825470Z",
     "iopub.status.busy": "2024-06-23T04:14:09.825031Z",
     "iopub.status.idle": "2024-06-23T04:14:09.838243Z",
     "shell.execute_reply": "2024-06-23T04:14:09.837067Z"
    },
    "papermill": {
     "duration": 0.030486,
     "end_time": "2024-06-23T04:14:09.841071",
     "exception": false,
     "start_time": "2024-06-23T04:14:09.810585",
     "status": "completed"
    },
    "tags": []
   },
   "outputs": [],
   "source": [
    "sentiment_mapping = {'negative': -1, 'neutral': 0, 'positive': 1}\n",
    "df['Review.Sentiment.Numeric'] = df['Review.Sentiment'].map(sentiment_mapping)\n",
    "df['Title.Sentiment.Numeric'] = df['Title.Sentiment'].map(sentiment_mapping)"
   ]
  },
  {
   "cell_type": "markdown",
   "id": "e9d1904e",
   "metadata": {
    "papermill": {
     "duration": 0.012175,
     "end_time": "2024-06-23T04:14:09.866011",
     "exception": false,
     "start_time": "2024-06-23T04:14:09.853836",
     "status": "completed"
    },
    "tags": []
   },
   "source": [
    "**Removes rows with NaN values ​​in columns 'Review.Sentiment.Numeric' and 'Title.Sentiment.Numeric'**"
   ]
  },
  {
   "cell_type": "code",
   "execution_count": 19,
   "id": "edda42bd",
   "metadata": {
    "execution": {
     "iopub.execute_input": "2024-06-23T04:14:09.893411Z",
     "iopub.status.busy": "2024-06-23T04:14:09.892962Z",
     "iopub.status.idle": "2024-06-23T04:14:09.909404Z",
     "shell.execute_reply": "2024-06-23T04:14:09.907985Z"
    },
    "papermill": {
     "duration": 0.033771,
     "end_time": "2024-06-23T04:14:09.912468",
     "exception": false,
     "start_time": "2024-06-23T04:14:09.878697",
     "status": "completed"
    },
    "tags": []
   },
   "outputs": [],
   "source": [
    "df.dropna(subset=['Review.Sentiment.Numeric', 'Title.Sentiment.Numeric'], inplace=True)"
   ]
  },
  {
   "cell_type": "markdown",
   "id": "6e907721",
   "metadata": {
    "papermill": {
     "duration": 0.012648,
     "end_time": "2024-06-23T04:14:09.938311",
     "exception": false,
     "start_time": "2024-06-23T04:14:09.925663",
     "status": "completed"
    },
    "tags": []
   },
   "source": [
    "**Calculating the Pearson correlation between 'Review.Text' and 'Title' sentiment**"
   ]
  },
  {
   "cell_type": "code",
   "execution_count": 20,
   "id": "3bd1a4f5",
   "metadata": {
    "execution": {
     "iopub.execute_input": "2024-06-23T04:14:09.966436Z",
     "iopub.status.busy": "2024-06-23T04:14:09.965989Z",
     "iopub.status.idle": "2024-06-23T04:14:09.981038Z",
     "shell.execute_reply": "2024-06-23T04:14:09.979595Z"
    },
    "papermill": {
     "duration": 0.032215,
     "end_time": "2024-06-23T04:14:09.983752",
     "exception": false,
     "start_time": "2024-06-23T04:14:09.951537",
     "status": "completed"
    },
    "tags": []
   },
   "outputs": [
    {
     "name": "stdout",
     "output_type": "stream",
     "text": [
      "Korelasi antara sentimen Title dan Review.Text: 0.4934313449421262\n"
     ]
    }
   ],
   "source": [
    "correlation, _ = pearsonr(df['Review.Sentiment.Numeric'], df['Title.Sentiment.Numeric'])\n",
    "print(f'Korelasi antara sentimen Title dan Review.Text: {correlation}')"
   ]
  },
  {
   "cell_type": "markdown",
   "id": "8b0bf1e4",
   "metadata": {
    "papermill": {
     "duration": 0.026632,
     "end_time": "2024-06-23T04:14:10.038454",
     "exception": false,
     "start_time": "2024-06-23T04:14:10.011822",
     "status": "completed"
    },
    "tags": []
   },
   "source": [
    "**Save the DataFrame with the prediction column to a new file**"
   ]
  },
  {
   "cell_type": "code",
   "execution_count": 21,
   "id": "fcd11dce",
   "metadata": {
    "execution": {
     "iopub.execute_input": "2024-06-23T04:14:10.095085Z",
     "iopub.status.busy": "2024-06-23T04:14:10.094640Z",
     "iopub.status.idle": "2024-06-23T04:14:10.584881Z",
     "shell.execute_reply": "2024-06-23T04:14:10.583575Z"
    },
    "papermill": {
     "duration": 0.521824,
     "end_time": "2024-06-23T04:14:10.587778",
     "exception": false,
     "start_time": "2024-06-23T04:14:10.065954",
     "status": "completed"
    },
    "tags": []
   },
   "outputs": [
    {
     "name": "stdout",
     "output_type": "stream",
     "text": [
      "Hasil prediksi sentimen telah disimpan ke 'Women_s_E-Commerce_Clothing_Reviews_with_Sentiment.csv'.\n"
     ]
    }
   ],
   "source": [
    "df.to_csv('Women_s_E-Commerce_Clothing_Reviews_with_Sentiment.csv', sep=';', index=False)\n",
    "\n",
    "print(\"Hasil prediksi sentimen telah disimpan ke 'Women_s_E-Commerce_Clothing_Reviews_with_Sentiment.csv'.\")"
   ]
  }
 ],
 "metadata": {
  "kaggle": {
   "accelerator": "none",
   "dataSources": [
    {
     "datasetId": 5184465,
     "sourceId": 8654523,
     "sourceType": "datasetVersion"
    }
   ],
   "dockerImageVersionId": 30732,
   "isGpuEnabled": false,
   "isInternetEnabled": true,
   "language": "python",
   "sourceType": "notebook"
  },
  "kernelspec": {
   "display_name": "Python 3",
   "language": "python",
   "name": "python3"
  },
  "language_info": {
   "codemirror_mode": {
    "name": "ipython",
    "version": 3
   },
   "file_extension": ".py",
   "mimetype": "text/x-python",
   "name": "python",
   "nbconvert_exporter": "python",
   "pygments_lexer": "ipython3",
   "version": "3.10.13"
  },
  "papermill": {
   "default_parameters": {},
   "duration": 53.382679,
   "end_time": "2024-06-23T04:14:11.424228",
   "environment_variables": {},
   "exception": null,
   "input_path": "__notebook__.ipynb",
   "output_path": "__notebook__.ipynb",
   "parameters": {},
   "start_time": "2024-06-23T04:13:18.041549",
   "version": "2.5.0"
  }
 },
 "nbformat": 4,
 "nbformat_minor": 5
}
